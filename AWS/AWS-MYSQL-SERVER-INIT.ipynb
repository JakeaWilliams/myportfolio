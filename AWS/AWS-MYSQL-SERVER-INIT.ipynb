{
 "cells": [
  {
   "cell_type": "code",
   "execution_count": 2,
   "id": "e201bdf0",
   "metadata": {
    "scrolled": true
   },
   "outputs": [
    {
     "ename": "ModuleNotFoundError",
     "evalue": "No module named 'PyMySQL'",
     "output_type": "error",
     "traceback": [
      "\u001b[0;31m---------------------------------------------------------------------------\u001b[0m",
      "\u001b[0;31mModuleNotFoundError\u001b[0m                       Traceback (most recent call last)",
      "\u001b[1;32m/Users/engineer/Desktop/python_ex/AWS-MYSQL-SERVER-INIT.ipynb Cell 1'\u001b[0m in \u001b[0;36m<cell line: 1>\u001b[0;34m()\u001b[0m\n\u001b[0;32m----> <a href='vscode-notebook-cell:/Users/engineer/Desktop/python_ex/AWS-MYSQL-SERVER-INIT.ipynb#ch0000000?line=0'>1</a>\u001b[0m \u001b[39mimport\u001b[39;00m \u001b[39mPyMySQL\u001b[39;00m\n\u001b[1;32m      <a href='vscode-notebook-cell:/Users/engineer/Desktop/python_ex/AWS-MYSQL-SERVER-INIT.ipynb#ch0000000?line=1'>2</a>\u001b[0m \u001b[39mimport\u001b[39;00m \u001b[39mpandas\u001b[39;00m \u001b[39mas\u001b[39;00m \u001b[39mpd\u001b[39;00m\n",
      "\u001b[0;31mModuleNotFoundError\u001b[0m: No module named 'PyMySQL'"
     ]
    }
   ],
   "source": [
    "import PyMySQL\n",
    "import pandas as pd"
   ]
  },
  {
   "cell_type": "markdown",
   "id": "2c5014cc",
   "metadata": {},
   "source": []
  },
  {
   "cell_type": "code",
   "execution_count": null,
   "id": "022f23a8",
   "metadata": {},
   "outputs": [],
   "source": [
    "conn = pymysql.connect(\n",
    "    host='case-problems-practice.cknpixybksh4.us-west-2.rds.amazonaws.com',\n",
    "    port=int(3306),\n",
    "    user=\"admin\",\n",
    "    passwd=\"Austin9674$\",\n",
    "    db=\"case-problems-practice\",\n",
    "    charset='utf8mb4')"
   ]
  },
  {
   "cell_type": "code",
   "execution_count": null,
   "id": "29da00e8",
   "metadata": {},
   "outputs": [],
   "source": [
    "cursor=conn.cursor()"
   ]
  },
  {
   "cell_type": "code",
   "execution_count": null,
   "id": "4dca20e2",
   "metadata": {},
   "outputs": [],
   "source": [
    "CREATE TABLE `leetcode-case-problems` (\n",
    "    `question #` INT COMMENT 'Question_Number',\n",
    "\t`title` TINYTEXT COMMENT 'title',\n",
    "\t`syntax` TEXT CHARACTER SET utf8 COLLATE utf8_general_ci COMMENT 'py/sql',\n",
    "\t`confident` BOOLEAN DEFAULT 'n' COMMENT 'y/n',\n",
    "\tUNIQUE KEY `question & status ` (`Question #`,`confident`) USING BTREE,\n",
    "\tPRIMARY KEY (`question #`)\n",
    ");\n"
   ]
  },
  {
   "cell_type": "code",
   "execution_count": null,
   "id": "f891663f",
   "metadata": {},
   "outputs": [],
   "source": [
    "cursor.execute(create_table)\n",
    "\n",
    "insert_statement=\"\"\"\n",
    "Insert into leetcode-case-problems\n",
    "(question, title, syntax, confident)\n",
    "values\n",
    "(1,'Question 1','SELECT title FROM...',n)\n",
    "\n",
    "\"\"\""
   ]
  },
  {
   "cell_type": "code",
   "execution_count": null,
   "id": "389d40a4",
   "metadata": {},
   "outputs": [],
   "source": [
    "cursor.execute(insert_statement)\n",
    "\n",
    "conn.commit()\n",
    "conn.close() "
   ]
  },
  {
   "cell_type": "code",
   "execution_count": null,
   "id": "d62597f3",
   "metadata": {},
   "outputs": [],
   "source": [
    "SELECT * FROM leetcode-case-problems;"
   ]
  },
  {
   "cell_type": "code",
   "execution_count": null,
   "id": "fa24bd98",
   "metadata": {},
   "outputs": [],
   "source": []
  }
 ],
 "metadata": {
  "kernelspec": {
   "display_name": "Python 3.8.12 64-bit ('3.8.12')",
   "language": "python",
   "name": "python3"
  },
  "language_info": {
   "codemirror_mode": {
    "name": "ipython",
    "version": 3
   },
   "file_extension": ".py",
   "mimetype": "text/x-python",
   "name": "python",
   "nbconvert_exporter": "python",
   "pygments_lexer": "ipython3",
   "version": "3.8.12"
  },
  "vscode": {
   "interpreter": {
    "hash": "5581c0a9d3964cb2fbf47f4d98ab47f5c6ef3358fa043d7da24af320a6653548"
   }
  }
 },
 "nbformat": 4,
 "nbformat_minor": 5
}
