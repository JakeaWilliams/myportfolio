{
 "cells": [
  {
   "cell_type": "code",
   "execution_count": 1,
   "id": "8c896817",
   "metadata": {},
   "outputs": [],
   "source": [
    "#Lists \n",
    "a = [1,3,5]\n",
    "b = [1,2,3]"
   ]
  },
  {
   "cell_type": "code",
   "execution_count": 4,
   "id": "c9c8f9a7",
   "metadata": {},
   "outputs": [],
   "source": [
    "#Numpy \n",
    "import numpy as np\n",
    "a = np.array([1,3,5])\n",
    "b = np.array([1,2,3])"
   ]
  },
  {
   "cell_type": "code",
   "execution_count": 5,
   "id": "cc8df10e",
   "metadata": {},
   "outputs": [
    {
     "data": {
      "text/plain": [
       "array([ 1,  6, 15])"
      ]
     },
     "execution_count": 5,
     "metadata": {},
     "output_type": "execute_result"
    }
   ],
   "source": [
    "a*b"
   ]
  },
  {
   "cell_type": "code",
   "execution_count": null,
   "id": "b17c4ee5",
   "metadata": {},
   "outputs": [],
   "source": []
  }
 ],
 "metadata": {
  "kernelspec": {
   "display_name": "Python 3 (ipykernel)",
   "language": "python",
   "name": "python3"
  },
  "language_info": {
   "codemirror_mode": {
    "name": "ipython",
    "version": 3
   },
   "file_extension": ".py",
   "mimetype": "text/x-python",
   "name": "python",
   "nbconvert_exporter": "python",
   "pygments_lexer": "ipython3",
   "version": "3.9.13"
  }
 },
 "nbformat": 4,
 "nbformat_minor": 5
}
