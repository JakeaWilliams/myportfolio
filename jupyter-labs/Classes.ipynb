{
 "cells": [
  {
   "cell_type": "code",
   "execution_count": 1,
   "id": "99ed4fa8",
   "metadata": {},
   "outputs": [],
   "source": [
    "##/////demonstrating the difference between object and classes/////##\n",
    "#Create a simple class with the name ‘human’\n",
    "##which would give the name and age of the person. \n",
    "class human:\n",
    "    name:None\n",
    "    age=None\n",
    "    def get_name(self):\n",
    "        print(\"Enter your name\")\n",
    "        self.name=input()\n",
    "    def get_age(self):\n",
    "        print(\"Enter your age\")\n",
    "        self.age=input()\n",
    "    def put_name(self):\n",
    "        print(\"Your name is\",self.name)\n",
    "    def put_age(self):\n",
    "        print(\"Your age is\",self.age)"
   ]
  },
  {
   "cell_type": "code",
   "execution_count": 2,
   "id": "0606b667",
   "metadata": {},
   "outputs": [],
   "source": [
    "#create the object named person one\n",
    "person1 = human()"
   ]
  },
  {
   "cell_type": "code",
   "execution_count": 4,
   "id": "bbc0f2ca",
   "metadata": {},
   "outputs": [
    {
     "name": "stdout",
     "output_type": "stream",
     "text": [
      "Enter your name\n",
      "Jake\n"
     ]
    }
   ],
   "source": [
    "#now invoke the function to ask 'enter your name'\n",
    "person1.get_name()"
   ]
  },
  {
   "cell_type": "code",
   "execution_count": 7,
   "id": "351a2050",
   "metadata": {},
   "outputs": [
    {
     "name": "stdout",
     "output_type": "stream",
     "text": [
      "Enter your age\n",
      "21\n"
     ]
    }
   ],
   "source": [
    "person1.get_age()"
   ]
  },
  {
   "cell_type": "code",
   "execution_count": 8,
   "id": "1d409a1b",
   "metadata": {},
   "outputs": [
    {
     "name": "stdout",
     "output_type": "stream",
     "text": [
      "your age is 21\n",
      "your name is Jake\n"
     ]
    },
    {
     "data": {
      "text/plain": [
       "(None, None)"
      ]
     },
     "execution_count": 8,
     "metadata": {},
     "output_type": "execute_result"
    }
   ],
   "source": [
    "person1.put_age(), person1.put_name()"
   ]
  },
  {
   "cell_type": "code",
   "execution_count": null,
   "id": "fe32a610",
   "metadata": {},
   "outputs": [],
   "source": []
  }
 ],
 "metadata": {
  "kernelspec": {
   "display_name": "Python 3 (ipykernel)",
   "language": "python",
   "name": "python3"
  },
  "language_info": {
   "codemirror_mode": {
    "name": "ipython",
    "version": 3
   },
   "file_extension": ".py",
   "mimetype": "text/x-python",
   "name": "python",
   "nbconvert_exporter": "python",
   "pygments_lexer": "ipython3",
   "version": "3.9.13"
  }
 },
 "nbformat": 4,
 "nbformat_minor": 5
}
