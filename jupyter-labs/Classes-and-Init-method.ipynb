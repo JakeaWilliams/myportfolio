{
 "cells": [
  {
   "cell_type": "code",
   "execution_count": 1,
   "id": "09ee0f91",
   "metadata": {},
   "outputs": [],
   "source": [
    "##Create the class\n",
    "class student: \n",
    "    def __init__(self,name,age,branch):\n",
    "        self.name=name\n",
    "        self.age=age\n",
    "        self.branch=branch\n",
    "    def print_student(self):\n",
    "        print(\"name\",self.name)\n",
    "        print(\"age\",self.age)\n",
    "        print(\"branch\", self.branch)"
   ]
  },
  {
   "cell_type": "code",
   "execution_count": 2,
   "id": "c4afb4cd",
   "metadata": {},
   "outputs": [],
   "source": [
    "##Create the object of the class\n",
    "student1 = student(\"Jake\",12,\"Engineer\")"
   ]
  },
  {
   "cell_type": "code",
   "execution_count": 3,
   "id": "8592fb1e",
   "metadata": {},
   "outputs": [
    {
     "name": "stdout",
     "output_type": "stream",
     "text": [
      "name Jake\n",
      "age 12\n",
      "branch Engineer\n"
     ]
    }
   ],
   "source": [
    "student1.print_student()"
   ]
  },
  {
   "cell_type": "code",
   "execution_count": null,
   "id": "5feed53b",
   "metadata": {},
   "outputs": [],
   "source": []
  }
 ],
 "metadata": {
  "kernelspec": {
   "display_name": "Python 3 (ipykernel)",
   "language": "python",
   "name": "python3"
  },
  "language_info": {
   "codemirror_mode": {
    "name": "ipython",
    "version": 3
   },
   "file_extension": ".py",
   "mimetype": "text/x-python",
   "name": "python",
   "nbconvert_exporter": "python",
   "pygments_lexer": "ipython3",
   "version": "3.9.13"
  }
 },
 "nbformat": 4,
 "nbformat_minor": 5
}
