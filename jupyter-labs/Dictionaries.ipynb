{
 "cells": [
  {
   "cell_type": "code",
   "execution_count": 6,
   "id": "e4969a67",
   "metadata": {},
   "outputs": [],
   "source": [
    "mydictionary = {'cust_name':('jake','dawson','john')}"
   ]
  },
  {
   "cell_type": "code",
   "execution_count": 7,
   "id": "2aca69c8",
   "metadata": {},
   "outputs": [
    {
     "data": {
      "text/plain": [
       "{'cust_name': ('jake', 'dawson', 'john')}"
      ]
     },
     "execution_count": 7,
     "metadata": {},
     "output_type": "execute_result"
    }
   ],
   "source": [
    "mydictionary"
   ]
  },
  {
   "cell_type": "code",
   "execution_count": 8,
   "id": "5c5b7fa0",
   "metadata": {},
   "outputs": [
    {
     "data": {
      "text/plain": [
       "dict_keys(['cust_name'])"
      ]
     },
     "execution_count": 8,
     "metadata": {},
     "output_type": "execute_result"
    }
   ],
   "source": [
    "mydictionary.keys()"
   ]
  },
  {
   "cell_type": "code",
   "execution_count": 9,
   "id": "b534657d",
   "metadata": {},
   "outputs": [
    {
     "data": {
      "text/plain": [
       "dict_values([('jake', 'dawson', 'john')])"
      ]
     },
     "execution_count": 9,
     "metadata": {},
     "output_type": "execute_result"
    }
   ],
   "source": [
    "mydictionary.values()"
   ]
  },
  {
   "cell_type": "code",
   "execution_count": null,
   "id": "4b799904",
   "metadata": {},
   "outputs": [],
   "source": []
  }
 ],
 "metadata": {
  "kernelspec": {
   "display_name": "Python 3 (ipykernel)",
   "language": "python",
   "name": "python3"
  },
  "language_info": {
   "codemirror_mode": {
    "name": "ipython",
    "version": 3
   },
   "file_extension": ".py",
   "mimetype": "text/x-python",
   "name": "python",
   "nbconvert_exporter": "python",
   "pygments_lexer": "ipython3",
   "version": "3.9.13"
  }
 },
 "nbformat": 4,
 "nbformat_minor": 5
}
