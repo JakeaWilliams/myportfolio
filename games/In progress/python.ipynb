{
 "cells": [
  {
   "cell_type": "code",
   "execution_count": 13,
   "metadata": {},
   "outputs": [
    {
     "ename": "ModuleNotFoundError",
     "evalue": "No module named 'pygame'",
     "output_type": "error",
     "traceback": [
      "\u001b[0;31m---------------------------------------------------------------------------\u001b[0m",
      "\u001b[0;31mModuleNotFoundError\u001b[0m                       Traceback (most recent call last)",
      "\u001b[1;32m/JakeaWilliams/myportfolio/games/In progress/python.ipynb Cell 1'\u001b[0m in \u001b[0;36m<cell line: 6>\u001b[0;34m()\u001b[0m\n\u001b[1;32m      <a href='vscode-notebook-cell://github/JakeaWilliams/myportfolio/games/In%20progress/python.ipynb#ch0000000vscode-vfs?line=2'>3</a>\u001b[0m \u001b[39mfrom\u001b[39;00m \u001b[39mmath\u001b[39;00m \u001b[39mimport\u001b[39;00m sin, cos, radians\n\u001b[1;32m      <a href='vscode-notebook-cell://github/JakeaWilliams/myportfolio/games/In%20progress/python.ipynb#ch0000000vscode-vfs?line=3'>4</a>\u001b[0m p \u001b[39m=\u001b[39m \u001b[39mprint\u001b[39m\n\u001b[0;32m----> <a href='vscode-notebook-cell://github/JakeaWilliams/myportfolio/games/In%20progress/python.ipynb#ch0000000vscode-vfs?line=5'>6</a>\u001b[0m \u001b[39mimport\u001b[39;00m \u001b[39mpygame\u001b[39;00m\n\u001b[1;32m      <a href='vscode-notebook-cell://github/JakeaWilliams/myportfolio/games/In%20progress/python.ipynb#ch0000000vscode-vfs?line=6'>7</a>\u001b[0m \u001b[39m#from pygame import Rect, Color\u001b[39;00m\n\u001b[1;32m      <a href='vscode-notebook-cell://github/JakeaWilliams/myportfolio/games/In%20progress/python.ipynb#ch0000000vscode-vfs?line=7'>8</a>\u001b[0m \u001b[39m#from pygame.sprite import Sprite\u001b[39;00m\n\u001b[1;32m      <a href='vscode-notebook-cell://github/JakeaWilliams/myportfolio/games/In%20progress/python.ipynb#ch0000000vscode-vfs?line=8'>9</a>\u001b[0m \u001b[39m#you already imported pygame, why import modules twice? Your code will run faster if \u001b[39;00m\n\u001b[1;32m     <a href='vscode-notebook-cell://github/JakeaWilliams/myportfolio/games/In%20progress/python.ipynb#ch0000000vscode-vfs?line=9'>10</a>\u001b[0m \u001b[39m#you change Rect to pygame.Rect like I did. If this is a style preference, let me know.\u001b[39;00m\n\u001b[1;32m     <a href='vscode-notebook-cell://github/JakeaWilliams/myportfolio/games/In%20progress/python.ipynb#ch0000000vscode-vfs?line=11'>12</a>\u001b[0m \u001b[39mfrom\u001b[39;00m \u001b[39mutils\u001b[39;00m \u001b[39mimport\u001b[39;00m Timer\n",
      "\u001b[0;31mModuleNotFoundError\u001b[0m: No module named 'pygame'"
     ]
    }
   ],
   "source": []
  },
  {
   "cell_type": "code",
   "execution_count": null,
   "metadata": {},
   "outputs": [],
   "source": []
  }
 ],
 "metadata": {
  "kernelspec": {
   "display_name": "Python 3.9.13 64-bit",
   "language": "python",
   "name": "python3"
  },
  "language_info": {
   "codemirror_mode": {
    "name": "ipython",
    "version": 3
   },
   "file_extension": ".py",
   "mimetype": "text/x-python",
   "name": "python",
   "nbconvert_exporter": "python",
   "pygments_lexer": "ipython3",
   "version": "3.9.13"
  },
  "orig_nbformat": 4,
  "vscode": {
   "interpreter": {
    "hash": "aee8b7b246df8f9039afb4144a1f6fd8d2ca17a180786b69acc140d282b71a49"
   }
  }
 },
 "nbformat": 4,
 "nbformat_minor": 2
}
