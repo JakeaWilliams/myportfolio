{
 "cells": [
  {
   "cell_type": "code",
   "execution_count": 23,
   "metadata": {},
   "outputs": [
    {
     "name": "stdout",
     "output_type": "stream",
     "text": [
      "7\n",
      "-1\n",
      "12\n"
     ]
    }
   ],
   "source": [
    "#Addition # 7\n",
    "print(3 + 4)\n",
    "\n",
    "#Subtraction # -1\n",
    "print(3 - 4)\n",
    "\n",
    "#Multiplication\n",
    "print(3 * 4)"
   ]
  },
  {
   "cell_type": "code",
   "execution_count": 24,
   "metadata": {},
   "outputs": [
    {
     "name": "stdout",
     "output_type": "stream",
     "text": [
      "12\n",
      "0.75\n",
      "4\n"
     ]
    }
   ],
   "source": [
    "#Multiplication\n",
    "print(3 * 4)\n",
    "\n",
    "#Division\n",
    "print(3 / 4)\n",
    "\n",
    "####### Floor Division ########\n",
    "#If your room is nine meters high, \n",
    "# you could place four 2-meter-high \n",
    "# wardrobes on top of each other\n",
    "\n",
    "print(9 // 2)"
   ]
  },
  {
   "cell_type": "code",
   "execution_count": 25,
   "metadata": {},
   "outputs": [
    {
     "name": "stdout",
     "output_type": "stream",
     "text": [
      "1\n",
      "81\n"
     ]
    }
   ],
   "source": [
    "#Modulus % \n",
    "print(9 % 2) #1\n",
    "#If your room is 9 meters high, \n",
    "#you could place four 2-meter-high wardrobes on top of each other. \n",
    "#There would be 1 meter of vertical space left.\n",
    "\n",
    "#Exponentiation\n",
    "print(3 ** 4) #81\n",
    "#3 ** 4 is the equivalent of 3 * 3 * 3 * 3."
   ]
  },
  {
   "cell_type": "code",
   "execution_count": 26,
   "metadata": {},
   "outputs": [
    {
     "name": "stdout",
     "output_type": "stream",
     "text": [
      "7\n"
     ]
    }
   ],
   "source": [
    "spent = 3\n",
    "donated = 4\n",
    "#variable addition\n",
    "#rules for variables: best practice to use underscore to connect words\n",
    "#spaces serve only the purpose of readability. \n",
    "#variables serve as buckets to store objects\n",
    "# you can work on buckets similiar to the way Excel uses cell-references. \n",
    "total_amount = spent + donated\n",
    "\n",
    "print(total_amount) "
   ]
  },
  {
   "cell_type": "code",
   "execution_count": 27,
   "metadata": {},
   "outputs": [
    {
     "name": "stdout",
     "output_type": "stream",
     "text": [
      "7 3 4\n"
     ]
    }
   ],
   "source": [
    "#Printing-Multiple-Variables \n",
    "\n",
    "#Its possible to print multiple variables in one single print function \n",
    "#use commas between variables\n",
    "\n",
    "print(total_amount,spent, donated)"
   ]
  },
  {
   "cell_type": "code",
   "execution_count": 28,
   "metadata": {},
   "outputs": [
    {
     "name": "stdout",
     "output_type": "stream",
     "text": [
      "(1, 2, 3) (1, 2, 3)\n"
     ]
    }
   ],
   "source": [
    "#Creating objects and placing them in a bucket \n",
    "\n",
    "x = 1\n",
    "y = 2\n",
    "z = 3\n",
    "\n",
    "Countpls = (x,y,z)\n",
    "\n",
    "print(Countpls,Countpls)\n"
   ]
  },
  {
   "cell_type": "code",
   "execution_count": 29,
   "metadata": {},
   "outputs": [
    {
     "name": "stdout",
     "output_type": "stream",
     "text": [
      "<class 'int'> <class 'str'> <class 'float'>\n"
     ]
    }
   ],
   "source": [
    "# INTEGER, FLOAT, BOOLEAN \n",
    "#In python- Integers are implicit when numbers. As follows int\n",
    "x = 10\n",
    "#x is a integer 10\n",
    "\n",
    "#STRING IS\n",
    "y = \"10\"\n",
    "\n",
    "#FLOAT IS \n",
    "z = 10.1\n",
    "\n",
    "#GET THE CLASS TYPE BY USING FUNCTION: \n",
    "print(type(x), type(y), type(z))"
   ]
  },
  {
   "cell_type": "code",
   "execution_count": 30,
   "metadata": {},
   "outputs": [
    {
     "name": "stdout",
     "output_type": "stream",
     "text": [
      "[9.1, 8.8, 7.5, 9.1, 8.8, 7.5, 9.1, 8.8, 7.5]\n",
      "[9.1, 8.8, 7.5, 9.1, 8.8, 7.5]\n"
     ]
    }
   ],
   "source": [
    "#LISTS \n",
    "\n",
    "student_grades = [9.1,8.8,7.5]\n",
    "\n",
    "print(student_grades*3)\n",
    "print(student_grades+student_grades)\n"
   ]
  },
  {
   "cell_type": "code",
   "execution_count": 31,
   "metadata": {},
   "outputs": [
    {
     "name": "stdout",
     "output_type": "stream",
     "text": [
      "[0, 5, 10]\n"
     ]
    }
   ],
   "source": [
    "#RANGES\n",
    "\n",
    "class List:               #notice it goes 0-10\n",
    "    student_grades = list(range(0,11,5)) #5 is called a step\n",
    "    print(student_grades)"
   ]
  },
  {
   "cell_type": "code",
   "execution_count": 32,
   "metadata": {},
   "outputs": [
    {
     "name": "stdout",
     "output_type": "stream",
     "text": [
      "['__add__', '__class__', '__contains__', '__delattr__', '__delitem__', '__dir__', '__doc__', '__eq__', '__format__', '__ge__', '__getattribute__', '__getitem__', '__gt__', '__hash__', '__iadd__', '__imul__', '__init__', '__init_subclass__', '__iter__', '__le__', '__len__', '__lt__', '__mul__', '__ne__', '__new__', '__reduce__', '__reduce_ex__', '__repr__', '__reversed__', '__rmul__', '__setattr__', '__setitem__', '__sizeof__', '__str__', '__subclasshook__', 'append', 'clear', 'copy', 'count', 'extend', 'index', 'insert', 'pop', 'remove', 'reverse', 'sort']\n"
     ]
    }
   ],
   "source": [
    "# DIR-list; all are attributes of a list \n",
    "\n",
    "print(dir(list))"
   ]
  },
  {
   "cell_type": "code",
   "execution_count": 33,
   "metadata": {},
   "outputs": [
    {
     "name": "stdout",
     "output_type": "stream",
     "text": [
      "['__abs__', '__add__', '__and__', '__bool__', '__ceil__', '__class__', '__delattr__', '__dir__', '__divmod__', '__doc__', '__eq__', '__float__', '__floor__', '__floordiv__', '__format__', '__ge__', '__getattribute__', '__getnewargs__', '__gt__', '__hash__', '__index__', '__init__', '__init_subclass__', '__int__', '__invert__', '__le__', '__lshift__', '__lt__', '__mod__', '__mul__', '__ne__', '__neg__', '__new__', '__or__', '__pos__', '__pow__', '__radd__', '__rand__', '__rdivmod__', '__reduce__', '__reduce_ex__', '__repr__', '__rfloordiv__', '__rlshift__', '__rmod__', '__rmul__', '__ror__', '__round__', '__rpow__', '__rrshift__', '__rshift__', '__rsub__', '__rtruediv__', '__rxor__', '__setattr__', '__sizeof__', '__str__', '__sub__', '__subclasshook__', '__truediv__', '__trunc__', '__xor__', 'as_integer_ratio', 'bit_length', 'conjugate', 'denominator', 'from_bytes', 'imag', 'numerator', 'real', 'to_bytes']\n"
     ]
    }
   ],
   "source": [
    "# DIR-int; all are attributes of a list \n",
    "\n",
    "print(dir(int))"
   ]
  },
  {
   "cell_type": "code",
   "execution_count": 34,
   "metadata": {},
   "outputs": [
    {
     "name": "stdout",
     "output_type": "stream",
     "text": [
      "['__add__', '__class__', '__contains__', '__delattr__', '__dir__', '__doc__', '__eq__', '__format__', '__ge__', '__getattribute__', '__getitem__', '__getnewargs__', '__gt__', '__hash__', '__init__', '__init_subclass__', '__iter__', '__le__', '__len__', '__lt__', '__mod__', '__mul__', '__ne__', '__new__', '__reduce__', '__reduce_ex__', '__repr__', '__rmod__', '__rmul__', '__setattr__', '__sizeof__', '__str__', '__subclasshook__', 'capitalize', 'casefold', 'center', 'count', 'encode', 'endswith', 'expandtabs', 'find', 'format', 'format_map', 'index', 'isalnum', 'isalpha', 'isascii', 'isdecimal', 'isdigit', 'isidentifier', 'islower', 'isnumeric', 'isprintable', 'isspace', 'istitle', 'isupper', 'join', 'ljust', 'lower', 'lstrip', 'maketrans', 'partition', 'replace', 'rfind', 'rindex', 'rjust', 'rpartition', 'rsplit', 'rstrip', 'split', 'splitlines', 'startswith', 'strip', 'swapcase', 'title', 'translate', 'upper', 'zfill']\n"
     ]
    }
   ],
   "source": [
    "# DIR-str; all are attributes of a list \n",
    "\n",
    "print(dir(str))"
   ]
  },
  {
   "cell_type": "code",
   "execution_count": 35,
   "metadata": {},
   "outputs": [
    {
     "name": "stdout",
     "output_type": "stream",
     "text": [
      "['__abs__', '__add__', '__bool__', '__class__', '__delattr__', '__dir__', '__divmod__', '__doc__', '__eq__', '__float__', '__floordiv__', '__format__', '__ge__', '__getattribute__', '__getformat__', '__getnewargs__', '__gt__', '__hash__', '__init__', '__init_subclass__', '__int__', '__le__', '__lt__', '__mod__', '__mul__', '__ne__', '__neg__', '__new__', '__pos__', '__pow__', '__radd__', '__rdivmod__', '__reduce__', '__reduce_ex__', '__repr__', '__rfloordiv__', '__rmod__', '__rmul__', '__round__', '__rpow__', '__rsub__', '__rtruediv__', '__set_format__', '__setattr__', '__sizeof__', '__str__', '__sub__', '__subclasshook__', '__truediv__', '__trunc__', 'as_integer_ratio', 'conjugate', 'fromhex', 'hex', 'imag', 'is_integer', 'real']\n"
     ]
    }
   ],
   "source": [
    " print(dir(float))"
   ]
  },
  {
   "cell_type": "code",
   "execution_count": 36,
   "metadata": {},
   "outputs": [
    {
     "name": "stdout",
     "output_type": "stream",
     "text": [
      "['__abs__', '__add__', '__and__', '__bool__', '__ceil__', '__class__', '__delattr__', '__dir__', '__divmod__', '__doc__', '__eq__', '__float__', '__floor__', '__floordiv__', '__format__', '__ge__', '__getattribute__', '__getnewargs__', '__gt__', '__hash__', '__index__', '__init__', '__init_subclass__', '__int__', '__invert__', '__le__', '__lshift__', '__lt__', '__mod__', '__mul__', '__ne__', '__neg__', '__new__', '__or__', '__pos__', '__pow__', '__radd__', '__rand__', '__rdivmod__', '__reduce__', '__reduce_ex__', '__repr__', '__rfloordiv__', '__rlshift__', '__rmod__', '__rmul__', '__ror__', '__round__', '__rpow__', '__rrshift__', '__rshift__', '__rsub__', '__rtruediv__', '__rxor__', '__setattr__', '__sizeof__', '__str__', '__sub__', '__subclasshook__', '__truediv__', '__trunc__', '__xor__', 'as_integer_ratio', 'bit_length', 'conjugate', 'denominator', 'from_bytes', 'imag', 'numerator', 'real', 'to_bytes']\n"
     ]
    }
   ],
   "source": [
    "print(dir(bool))"
   ]
  },
  {
   "cell_type": "code",
   "execution_count": 37,
   "metadata": {},
   "outputs": [
    {
     "name": "stdout",
     "output_type": "stream",
     "text": [
      "Help on method_descriptor:\n",
      "\n",
      "upper(self, /)\n",
      "    Return a copy of the string converted to uppercase.\n",
      "\n",
      "None\n",
      "Help on method_descriptor:\n",
      "\n",
      "lower(self, /)\n",
      "    Return a copy of the string converted to lowercase.\n",
      "\n",
      "None\n"
     ]
    }
   ],
   "source": [
    "# FOR FAST EXPLANATION OF WHAT A FUNCTION DOES USE help(attr.function)\n",
    "#to get help using a .upper function:\n",
    "print(help(str.upper))\n",
    "print(help(str.lower))"
   ]
  },
  {
   "cell_type": "raw",
   "metadata": {},
   "source": [
    "Did You Know?\n",
    "Python got his name not from the snake, but from Monty Python's Flying Circus, a favorite comedy series of Guido van Rossum, the creator of Python."
   ]
  },
  {
   "cell_type": "code",
   "execution_count": 38,
   "metadata": {},
   "outputs": [
    {
     "name": "stdout",
     "output_type": "stream",
     "text": [
      "['ArithmeticError', 'AssertionError', 'AttributeError', 'BaseException', 'BlockingIOError', 'BrokenPipeError', 'BufferError', 'BytesWarning', 'ChildProcessError', 'ConnectionAbortedError', 'ConnectionError', 'ConnectionRefusedError', 'ConnectionResetError', 'DeprecationWarning', 'EOFError', 'Ellipsis', 'EnvironmentError', 'Exception', 'False', 'FileExistsError', 'FileNotFoundError', 'FloatingPointError', 'FutureWarning', 'GeneratorExit', 'IOError', 'ImportError', 'ImportWarning', 'IndentationError', 'IndexError', 'InterruptedError', 'IsADirectoryError', 'KeyError', 'KeyboardInterrupt', 'LookupError', 'MemoryError', 'ModuleNotFoundError', 'NameError', 'None', 'NotADirectoryError', 'NotImplemented', 'NotImplementedError', 'OSError', 'OverflowError', 'PendingDeprecationWarning', 'PermissionError', 'ProcessLookupError', 'RecursionError', 'ReferenceError', 'ResourceWarning', 'RuntimeError', 'RuntimeWarning', 'StopAsyncIteration', 'StopIteration', 'SyntaxError', 'SyntaxWarning', 'SystemError', 'SystemExit', 'TabError', 'TimeoutError', 'True', 'TypeError', 'UnboundLocalError', 'UnicodeDecodeError', 'UnicodeEncodeError', 'UnicodeError', 'UnicodeTranslateError', 'UnicodeWarning', 'UserWarning', 'ValueError', 'Warning', 'ZeroDivisionError', '__IPYTHON__', '__build_class__', '__debug__', '__doc__', '__import__', '__loader__', '__name__', '__package__', '__spec__', 'abs', 'all', 'any', 'ascii', 'bin', 'bool', 'breakpoint', 'bytearray', 'bytes', 'callable', 'chr', 'classmethod', 'compile', 'complex', 'copyright', 'credits', 'delattr', 'dict', 'dir', 'display', 'divmod', 'enumerate', 'eval', 'exec', 'execfile', 'filter', 'float', 'format', 'frozenset', 'get_ipython', 'getattr', 'globals', 'hasattr', 'hash', 'help', 'hex', 'id', 'input', 'int', 'isinstance', 'issubclass', 'iter', 'len', 'license', 'list', 'locals', 'map', 'max', 'memoryview', 'min', 'next', 'object', 'oct', 'open', 'ord', 'pow', 'print', 'property', 'range', 'repr', 'reversed', 'round', 'runfile', 'set', 'setattr', 'slice', 'sorted', 'staticmethod', 'str', 'sum', 'super', 'tuple', 'type', 'vars', 'zip']\n"
     ]
    }
   ],
   "source": [
    "#BUILT-IN FUNCTIONS IN PYTHON: \n",
    "print(\n",
    "    dir(__builtins__)\n",
    "    )"
   ]
  },
  {
   "cell_type": "code",
   "execution_count": 39,
   "metadata": {},
   "outputs": [
    {
     "name": "stdout",
     "output_type": "stream",
     "text": [
      "The value is [9, 8, 7, 6, 5, 4, 3, 2, 1]\n"
     ]
    }
   ],
   "source": [
    "#NOW FROM THE BUILT-IN FUNCTION WE JUST CALLED USING DIR__BUILTINS__:\n",
    "\n",
    "#CALCULATE MEAN \n",
    "student_grades = [9, 8, 7, 6, 5, 4, 3, 2, 1]\n",
    "mysum = sum(student_grades)\n",
    "length = len(student_grades)\n",
    "mean = mysum / length \n",
    "a = 'The value is'\n",
    "print(a, student_grades)"
   ]
  },
  {
   "cell_type": "code",
   "execution_count": 40,
   "metadata": {},
   "outputs": [
    {
     "name": "stdout",
     "output_type": "stream",
     "text": [
      "python3\n"
     ]
    }
   ],
   "source": [
    "# MODIFY A STRING TO LWOERCASE \n",
    "\n",
    "username = \"Python3\"\n",
    "\n",
    "#FUNCTION TO LOWER - \n",
    "        #lower gets ()\n",
    "print(username.lower())\n"
   ]
  },
  {
   "cell_type": "code",
   "execution_count": 41,
   "metadata": {},
   "outputs": [
    {
     "name": "stdout",
     "output_type": "stream",
     "text": [
      "['__class__', '__contains__', '__delattr__', '__delitem__', '__dir__', '__doc__', '__eq__', '__format__', '__ge__', '__getattribute__', '__getitem__', '__gt__', '__hash__', '__init__', '__init_subclass__', '__iter__', '__le__', '__len__', '__lt__', '__ne__', '__new__', '__reduce__', '__reduce_ex__', '__repr__', '__reversed__', '__setattr__', '__setitem__', '__sizeof__', '__str__', '__subclasshook__', 'clear', 'copy', 'fromkeys', 'get', 'items', 'keys', 'pop', 'popitem', 'setdefault', 'update', 'values']\n"
     ]
    }
   ],
   "source": [
    "#DICTONARY v LIST \n",
    "\n",
    "#list - \n",
    "example_grades = [1, 5, 9]\n",
    "\n",
    "#dictonary - (key / value )\n",
    "example_grades = {\"Mary\":1, \"Jake\":5, \"John\":9}\n",
    "\n",
    "#to see the functions of a dictonary: \n",
    "print(dir(dict))"
   ]
  },
  {
   "cell_type": "code",
   "execution_count": 42,
   "metadata": {},
   "outputs": [
    {
     "name": "stdout",
     "output_type": "stream",
     "text": [
      "Help on method_descriptor:\n",
      "\n",
      "values(...)\n",
      "    D.values() -> an object providing a view on D's values\n",
      "\n",
      "None\n"
     ]
    }
   ],
   "source": [
    "print(help(dict.values))"
   ]
  },
  {
   "cell_type": "raw",
   "metadata": {},
   "source": [
    "Did you know that Python was first released in 1991?\n",
    "Python 2 was released in 2000, and Python 3 (the current version) in 2008."
   ]
  },
  {
   "cell_type": "code",
   "execution_count": 43,
   "metadata": {},
   "outputs": [],
   "source": [
    "# TUPLE v LIST \n",
    "alist = (1,2,3,4,5,6,7,8,9)\n",
    "\n",
    "#TUPLE is immutable \n",
    "atuple = [1,2,3,4,5,6,7,8,9]"
   ]
  },
  {
   "cell_type": "code",
   "execution_count": 44,
   "metadata": {},
   "outputs": [],
   "source": [
    "# COMPLEX DICTONARY \n",
    "\n",
    "#The dictonary below is assigned to day_temperatures. \n",
    "#It contains 3 keys morning, noon, evening, and each key has a tuple. \n",
    "\n",
    "day_temperatures = {'morning': (1.1 , 2.2, 3.4), \n",
    "                    'noon': (2.3, 4.5, 3.1), \n",
    "                    'evening': (2.4, 3.5, 6.5)}"
   ]
  },
  {
   "cell_type": "markdown",
   "metadata": {},
   "source": [
    "Cheatsheet: Data Types\n",
    "In this section, you learned that:\n",
    "\n",
    "<br/>Integers are used to represent whole numbers: \n",
    "\n",
    "<br/>rank = 10\n",
    "<br/>eggs = 12\n",
    "<br/>people = 3\n",
    "<br/>Floats represent decimal numbers:\n",
    "<br/>\n",
    "<br/>temperature = 10.2\n",
    "<br/>rainfall = 5.98\n",
    "<br/>elevation = 1031.88\n",
    "<br/>Strings represent text:\n",
    "<br/>\n",
    "<br/>message = \"Welcome to our online shop!\"\n",
    "<br/>name = \"John\"\n",
    "<br/>serial = \"R001991981SW\"\n",
    "<br/>Lists represent arrays of values that may change during the course of the program:\n",
    "<br/>\n",
    "<br/>members = [\"Sim Soony\", \"Marry Roundknee\", \"Jack Corridor\"]\n",
    "<br/>pixel_values = [252, 251, 251, 253, 250, 248, 247]\n",
    "<br/>Dictionaries represent pairs of keys and values:\n",
    "<br/>\n",
    "<br/>phone_numbers = {\"John Smith\": \"+37682929928\", \"Marry Simpons\": \"+423998200919\"}\n",
    "<br/>volcano_elevations = {\"Glacier Peak\": 3213.9, \"Rainer\": 4392.1}\n",
    "<br/>Keys of a dictionary can be extracted with:\n",
    "<br/>\n",
    "<br/>phone_numbers.keys()\n",
    "<br/>Values of a dictionary can be extracted with:\n",
    "<br/>\n",
    "<br/>phone_numbers.values()\n",
    "<br/>Tuples represent arrays of values that are not to be changed during the course of the program:\n",
    "\n",
    "vowels = ('a', 'e', 'i', 'o', 'u')\n",
    "one_digits = (0, 1, 2, 3, 4, 5, 6, 7, 8, 9)\n",
    "You can get a list of attributes of a data type has using:\n",
    "\n",
    "dir(str)\n",
    "dir(list)\n",
    "dir(dict)\n",
    "You can get a list of Python builtin functions using:\n",
    "\n",
    "dir(__builtins__)\n",
    "You can get the documentation of a Python data type using:\n",
    "\n",
    "help(str)\n",
    "help(str.replace)\n",
    "help(dict.values)"
   ]
  },
  {
   "cell_type": "code",
   "execution_count": null,
   "metadata": {},
   "outputs": [],
   "source": []
  }
 ],
 "metadata": {
  "kernelspec": {
   "display_name": "Python 3 (ipykernel)",
   "language": "python",
   "name": "python3"
  },
  "language_info": {
   "codemirror_mode": {
    "name": "ipython",
    "version": 3
   },
   "file_extension": ".py",
   "mimetype": "text/x-python",
   "name": "python",
   "nbconvert_exporter": "python",
   "pygments_lexer": "ipython3",
   "version": "3.8.12"
  },
  "vscode": {
   "interpreter": {
    "hash": "5581c0a9d3964cb2fbf47f4d98ab47f5c6ef3358fa043d7da24af320a6653548"
   }
  }
 },
 "nbformat": 4,
 "nbformat_minor": 2
}
