{
 "cells": [
  {
   "cell_type": "code",
   "execution_count": 2,
   "metadata": {},
   "outputs": [
    {
     "name": "stdout",
     "output_type": "stream",
     "text": [
      "(1, 1.6, 'string')\n"
     ]
    }
   ],
   "source": [
    "# CREATE A LIST \n",
    "    # assign a list to variable temperatures. \n",
    "    # list MUST contain a FLOAT, INTEGER, and STRING. \n",
    "\n",
    "x = 1\n",
    "y = 1.6\n",
    "z = \"string\"\n",
    "\n",
    "temperatures = x,y,z\n",
    "print(temperatures)"
   ]
  },
  {
   "cell_type": "markdown",
   "metadata": {},
   "source": [
    "v2"
   ]
  }
 ],
 "metadata": {
  "kernelspec": {
   "display_name": "Python 3.8.12 64-bit ('3.8.12')",
   "language": "python",
   "name": "python3"
  },
  "language_info": {
   "codemirror_mode": {
    "name": "ipython",
    "version": 3
   },
   "file_extension": ".py",
   "mimetype": "text/x-python",
   "name": "python",
   "nbconvert_exporter": "python",
   "pygments_lexer": "ipython3",
   "version": "3.8.12"
  },
  "orig_nbformat": 4,
  "vscode": {
   "interpreter": {
    "hash": "5581c0a9d3964cb2fbf47f4d98ab47f5c6ef3358fa043d7da24af320a6653548"
   }
  }
 },
 "nbformat": 4,
 "nbformat_minor": 2
}
