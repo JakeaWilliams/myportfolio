{
 "cells": [
  {
   "cell_type": "code",
   "execution_count": 98,
   "metadata": {},
   "outputs": [],
   "source": [
    "'''\n",
    "Work out the distance (user specified units) given two cities using haversine equation\n",
    "'''\n",
    "\n",
    "from pygeocoder import Geocoder\n",
    "import numpy as np\n",
    "import sys\n",
    "\n",
    "def raw_input():\n",
    "    input('Press enter to run')\n",
    "    return input()\n",
    "\n",
    "\n",
    "def get_distance(locA, locB):\n",
    "    #use haversine forumla\n",
    "    earth_rad = 6371.0\n",
    "    dlat = np.deg2rad(locB[0] - locA[0])\n",
    "    dlon = np.deg2rad(locB[1] - locA[1])\n",
    "    a = np.sin(dlat/2) * np.sin(dlat/2) + \\\n",
    "        np.cos(np.deg2rad(locA[0])) * np.cos(np.deg2rad(locB[0])) * \\\n",
    "        np.sin(dlon/2) * np.sin(dlon/2) \n",
    "    c = 2 * np.arctan2(np.sqrt(a), np.sqrt(1-a))\n",
    "    return earth_rad * c \n",
    "\n",
    "def get_latlongs(location):\n",
    "    return Geocoder.geocode(location)[0].coordinates\n",
    "        \n",
    "def convert_km_to_miles(km):\n",
    "    miles_per_km = 0.621371192\n",
    "    return km * miles_per_km\n",
    "    \n",
    "def main():\n",
    "    #get first city\n",
    "    input('Type the first City: ')\n",
    "    cityA = raw_input()\n",
    "    \n",
    "    #get second city\n",
    "    input('Type the second city: ')\n",
    "    cityB = raw_input()\n",
    "    \n",
    "    #get units\n",
    "    units = ''\n",
    "    while (units != 'km') & (units != 'm'):\n",
    "        print('Type distance units (miles or kilometers): ')\n",
    "        units = str.lower(raw_input())\n",
    "        if units in ['clicks', 'km', 'kilometers', 'kilometer']:\n",
    "            units = 'km'\n",
    "        elif units in ['m', 'mile', 'miles']:\n",
    "            units = 'm'\n",
    "        else:\n",
    "            print('units not recognised, please try again')\n",
    "            \n",
    "    #find the distance in km\n",
    "    try:\n",
    "        distance = get_distance(get_latlongs(cityA),\n",
    "                                get_latlongs(cityB))\n",
    "        #display the distance\n",
    "        if units == 'km':\n",
    "            print(str(distance),' km')\n",
    "        else:\n",
    "            distance = convert_km_to_miles(distance)\n",
    "            print(str(distance), ' miles')\n",
    "            \n",
    "    except:\n",
    "        print ('Error raised.  Are the input cities correct?')\n",
    "        \n",
    "            \n",
    "if __name__ == '__main__':\n",
    "    sys.exit(main())"
   ]
  }
 ],
 "metadata": {
  "kernelspec": {
   "display_name": "Python 3.9.13 64-bit",
   "language": "python",
   "name": "python3"
  },
  "language_info": {
   "codemirror_mode": {
    "name": "ipython",
    "version": 3
   },
   "file_extension": ".py",
   "mimetype": "text/x-python",
   "name": "python",
   "nbconvert_exporter": "python",
   "pygments_lexer": "ipython3",
   "version": "3.9.13"
  },
  "orig_nbformat": 4,
  "vscode": {
   "interpreter": {
    "hash": "aee8b7b246df8f9039afb4144a1f6fd8d2ca17a180786b69acc140d282b71a49"
   }
  }
 },
 "nbformat": 4,
 "nbformat_minor": 2
}
